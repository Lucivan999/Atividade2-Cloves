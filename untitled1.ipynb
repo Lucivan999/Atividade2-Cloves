{
  "nbformat": 4,
  "nbformat_minor": 0,
  "metadata": {
    "colab": {
      "provenance": [],
      "authorship_tag": "ABX9TyNilRn8DaamUUMXkzMqEYfx",
      "include_colab_link": true
    },
    "kernelspec": {
      "name": "python3",
      "display_name": "Python 3"
    },
    "language_info": {
      "name": "python"
    }
  },
  "cells": [
    {
      "cell_type": "markdown",
      "metadata": {
        "id": "view-in-github",
        "colab_type": "text"
      },
      "source": [
        "<a href=\"https://colab.research.google.com/github/Lucivan999/Atividade2-Cloves/blob/main/untitled1.ipynb\" target=\"_parent\"><img src=\"https://colab.research.google.com/assets/colab-badge.svg\" alt=\"Open In Colab\"/></a>"
      ]
    },
    {
      "cell_type": "code",
      "execution_count": null,
      "metadata": {
        "colab": {
          "base_uri": "https://localhost:8080/"
        },
        "id": "arS6_hY82Bt5",
        "outputId": "dd788f93-5b1b-4d59-c418-5803faf634e8"
      },
      "outputs": [
        {
          "output_type": "stream",
          "name": "stdout",
          "text": [
            "[1, 2, 3, 4, 5, 6, 7, 8, 9, 10]\n"
          ]
        }
      ],
      "source": [
        "def merge_vetores(vetor1, vetor2):\n",
        "    tamanho1 = len(vetor1)\n",
        "    tamanho2 = len(vetor2)\n",
        "    i = j = 0\n",
        "    resultado = []\n",
        "\n",
        "    while i < tamanho1 and j < tamanho2:\n",
        "        if vetor1[i] <= vetor2[j]:\n",
        "            resultado.append(vetor1[i])\n",
        "            i += 1\n",
        "        else:\n",
        "            resultado.append(vetor2[j])\n",
        "            j += 1\n",
        "\n",
        "    while i < tamanho1:\n",
        "        resultado.append(vetor1[i])\n",
        "        i += 1\n",
        "\n",
        "    while j < tamanho2:\n",
        "        resultado.append(vetor2[j])\n",
        "        j += 1\n",
        "\n",
        "    return resultado\n",
        "\n",
        "vetor1 = [1, 3, 5, 7, 9]\n",
        "vetor2 = [2, 4, 6, 8, 10]\n",
        "\n",
        "resultado = merge_vetores(vetor1, vetor2)\n",
        "print(resultado)  # Output: [1, 2, 3, 4, 5, 6, 7, 8, 9, 10]\n"
      ]
    }
  ]
}